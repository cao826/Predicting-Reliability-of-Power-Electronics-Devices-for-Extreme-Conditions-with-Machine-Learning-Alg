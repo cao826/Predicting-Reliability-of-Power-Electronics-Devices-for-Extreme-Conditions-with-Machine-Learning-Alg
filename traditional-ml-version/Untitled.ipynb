{
 "cells": [
  {
   "cell_type": "code",
   "execution_count": 1,
   "metadata": {},
   "outputs": [],
   "source": [
    "import pickle"
   ]
  },
  {
   "cell_type": "code",
   "execution_count": 2,
   "metadata": {},
   "outputs": [],
   "source": [
    "with open('all_devices_predicted_curves.pickle', 'rb') as f:\n",
    "    pred_curves = pickle.load(f)"
   ]
  },
  {
   "cell_type": "code",
   "execution_count": 3,
   "metadata": {},
   "outputs": [],
   "source": [
    "anonymizing_dict = {\n",
    "    'CREE1200V':'A',\n",
    "    'CREE1700V':'B',\n",
    "    'Infineon1200V':'C',\n",
    "    'LTF1200V':'D',\n",
    "    'LTF1700V':'E',\n",
    "    'ROHM1200V':'F',\n",
    "    'ROHM1700V':'G',\n",
    "    'ST1200V':'H',\n",
    "    'TR650V':'I',\n",
    "    'TR900V':'J',\n",
    "}"
   ]
  },
  {
   "cell_type": "code",
   "execution_count": 4,
   "metadata": {},
   "outputs": [],
   "source": [
    "anon_pred_curves = dict()\n",
    "\n",
    "for device_id in pred_curves:\n",
    "    manufacturer = device_id.split('_')[0]\n",
    "    anon_device = device_id.replace(manufacturer, anonymizing_dict[manufacturer])\n",
    "    curve = pred_curves[device_id]\n",
    "    anon_pred_curves[anon_device] = curve\n",
    "    #print(device_id.replace(manufacturer, anonymizing_dict[manufacturer]))\n",
    "    #break"
   ]
  },
  {
   "cell_type": "code",
   "execution_count": 5,
   "metadata": {},
   "outputs": [
    {
     "data": {
      "text/plain": [
       "223"
      ]
     },
     "execution_count": 5,
     "metadata": {},
     "output_type": "execute_result"
    }
   ],
   "source": [
    "len(anon_pred_curves)"
   ]
  },
  {
   "cell_type": "code",
   "execution_count": 6,
   "metadata": {},
   "outputs": [
    {
     "data": {
      "text/plain": [
       "223"
      ]
     },
     "execution_count": 6,
     "metadata": {},
     "output_type": "execute_result"
    }
   ],
   "source": [
    "len(pred_curves)"
   ]
  },
  {
   "cell_type": "code",
   "execution_count": 7,
   "metadata": {},
   "outputs": [],
   "source": [
    "with open('anon-pred-curves.pickle', 'wb') as new:\n",
    "    pickle.dump(anon_pred_curves, new)"
   ]
  },
  {
   "cell_type": "code",
   "execution_count": null,
   "metadata": {},
   "outputs": [],
   "source": []
  }
 ],
 "metadata": {
  "kernelspec": {
   "display_name": "Python 3",
   "language": "python",
   "name": "python3"
  },
  "language_info": {
   "codemirror_mode": {
    "name": "ipython",
    "version": 3
   },
   "file_extension": ".py",
   "mimetype": "text/x-python",
   "name": "python",
   "nbconvert_exporter": "python",
   "pygments_lexer": "ipython3",
   "version": "3.7.3"
  }
 },
 "nbformat": 4,
 "nbformat_minor": 4
}
